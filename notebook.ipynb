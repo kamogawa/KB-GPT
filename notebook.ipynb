{
 "cells": [
  {
   "cell_type": "code",
   "execution_count": 27,
   "metadata": {},
   "outputs": [
    {
     "data": {
      "text/plain": [
       "'ミートソースパスタの作り方をご説明します。\\n\\n【材料】\\n- パスタ（お好みの種類）：200g\\n- 牛ひき肉：200g\\n- 玉ねぎ：1個（みじん切り）\\n- にんにく：2片（みじん切り）\\n- トマト缶：1缶（400g）\\n- トマトピューレ：2大さじ\\n- オリーブオイル：大さじ2\\n- 塩：適量\\n- こしょう：適量\\n- 砂糖：小さじ1\\n- バジル：お好みで（刻んだもの）\\n\\n【作り方】\\n1. 鍋にたっぷりのお湯を沸かし、塩を加えてパスタを袋の表示通りに茹でます。茹で上がったら水で洗い、水気を切っておきます。\\n\\n2. 別のフライパンにオリーブオイルを熱し、みじん切りにした玉ねぎとにんにくを炒めます。玉ねぎが透明になるまで炒めましょう。\\n\\n3. 玉ねぎが透明になったら、牛ひき肉を加えて炒めます。ひき肉がほぐれ、色が変わるまで炒め続けます。\\n\\n4. ひき肉に火が通ったら、トマト缶とトマトピューレを加えます。よく混ぜながら煮込みます。\\n\\n5. 煮込む途中で塩、こしょう、砂糖を加え、味を調えます。バジルを加えてさらに煮込みます。\\n\\n6. パスタが茹で上がったら、鍋に戻し、ミートソースを加えてよく絡めます。\\n\\n7. 器に盛り付けて、お好みでパルメザンチーズやパセリをトッピングして完成です。\\n\\nお好みで、にんにくや玉ねぎの量を調整したり、他の野菜を加えたりすることもできます。ぜひ試してみてください。'"
      ]
     },
     "execution_count": 27,
     "metadata": {},
     "output_type": "execute_result"
    }
   ],
   "source": [
    "from langchain.chat_models import ChatOpenAI\n",
    "from langchain.callbacks import StreamingStdOutCallbackHandler\n",
    "from langchain.globals import set_llm_cache, set_debug\n",
    "from langchain.cache import InMemoryCache, SQLiteCache\n",
    "\n",
    "set_llm_cache(SQLiteCache(\"cache.db\"))\n",
    "set_debug(True)\n",
    "\n",
    "chat = ChatOpenAI(\n",
    "    temperature=0.1,\n",
    "    # streaming=True,\n",
    "    # callbacks=[\n",
    "    #     StreamingStdOutCallbackHandler(),\n",
    "    # ],\n",
    ")\n",
    "\n",
    "chat.predict(\"ミートソースパスタの作り方を教えて\")"
   ]
  },
  {
   "cell_type": "code",
   "execution_count": 28,
   "metadata": {},
   "outputs": [
    {
     "data": {
      "text/plain": [
       "'ミートソースパスタの作り方をご説明します。\\n\\n【材料】\\n- パスタ（お好みの種類）：200g\\n- 牛ひき肉：200g\\n- 玉ねぎ：1個（みじん切り）\\n- にんにく：2片（みじん切り）\\n- トマト缶：1缶（400g）\\n- トマトピューレ：2大さじ\\n- オリーブオイル：大さじ2\\n- 塩：適量\\n- こしょう：適量\\n- 砂糖：小さじ1\\n- バジル：お好みで（刻んだもの）\\n\\n【作り方】\\n1. 鍋にたっぷりのお湯を沸かし、塩を加えてパスタを袋の表示通りに茹でます。茹で上がったら水で洗い、水気を切っておきます。\\n\\n2. 別のフライパンにオリーブオイルを熱し、みじん切りにした玉ねぎとにんにくを炒めます。玉ねぎが透明になるまで炒めましょう。\\n\\n3. 玉ねぎが透明になったら、牛ひき肉を加えて炒めます。ひき肉がほぐれ、色が変わるまで炒め続けます。\\n\\n4. ひき肉に火が通ったら、トマト缶とトマトピューレを加えます。よく混ぜながら煮込みます。\\n\\n5. 煮込む途中で塩、こしょう、砂糖を加え、味を調えます。バジルを加えてさらに煮込みます。\\n\\n6. パスタが茹で上がったら、鍋に戻し、ミートソースを加えてよく絡めます。\\n\\n7. 器に盛り付けて、お好みでパルメザンチーズやパセリをトッピングして完成です。\\n\\nお好みで、にんにくや玉ねぎの量を調整したり、他の野菜を加えたりすることもできます。ぜひ試してみてください。'"
      ]
     },
     "execution_count": 28,
     "metadata": {},
     "output_type": "execute_result"
    }
   ],
   "source": [
    "chat.predict(\"ミートソースパスタの作り方を教えて\")"
   ]
  }
 ],
 "metadata": {
  "kernelspec": {
   "display_name": "env",
   "language": "python",
   "name": "python3"
  },
  "language_info": {
   "codemirror_mode": {
    "name": "ipython",
    "version": 3
   },
   "file_extension": ".py",
   "mimetype": "text/x-python",
   "name": "python",
   "nbconvert_exporter": "python",
   "pygments_lexer": "ipython3",
   "version": "3.11.6"
  }
 },
 "nbformat": 4,
 "nbformat_minor": 2
}
