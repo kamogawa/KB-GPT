{
 "cells": [
  {
   "cell_type": "code",
   "execution_count": 9,
   "metadata": {},
   "outputs": [],
   "source": [
    "from langchain.chat_models import ChatOpenAI\n",
    "from langchain.prompts import PromptTemplate, ChatPromptTemplate\n",
    "\n",
    "\n",
    "chat = ChatOpenAI(\n",
    "  temperature=0.1\n",
    ")\n"
   ]
  },
  {
   "cell_type": "code",
   "execution_count": 13,
   "metadata": {},
   "outputs": [
    {
     "data": {
      "text/plain": [
       "AIMessage(content='東京から大阪までの直線距離は約 400 キロメートルです。ただし、実際の道路や鉄道の距離は直線距離よりも長くなる場合があります。')"
      ]
     },
     "execution_count": 13,
     "metadata": {},
     "output_type": "execute_result"
    }
   ],
   "source": [
    "template = ChatPromptTemplate.from_messages([\n",
    "  # 基本設定\n",
    "  (\"system\", \"あなたは地理学の先生です。\"),\n",
    "  (\"ai\", \"こんにちは、私は {name} です。\"),\n",
    "  (\"human\", \"{location_a}から{location_b}までの距離を教えてください。\")\n",
    "])\n",
    "\n",
    "prompt = template.format_messages(\n",
    "  name=\"KB-GPT\",\n",
    "  location_a=\"東京\",\n",
    "  location_b=\"大阪\"\n",
    ")\n",
    "\n",
    "chat.predict_messages(prompt)\n",
    "\n"
   ]
  },
  {
   "cell_type": "code",
   "execution_count": 16,
   "metadata": {},
   "outputs": [
    {
     "data": {
      "text/plain": [
       "['hello', 'how', 'are', 'you']"
      ]
     },
     "execution_count": 16,
     "metadata": {},
     "output_type": "execute_result"
    }
   ],
   "source": [
    "from langchain.schema import BaseOutputParser\n",
    "\n",
    "class CommaOutputParser(BaseOutputParser):\n",
    "  # LLMのレスポンスを整形する\n",
    "  def parse(self, text):\n",
    "    items = text.strip().split(\",\")\n",
    "    return list(map(str.strip, items))\n",
    "  \n",
    "p = CommaOutputParser()\n",
    "p.parse(\"hello, how, are, you\")"
   ]
  },
  {
   "cell_type": "code",
   "execution_count": 17,
   "metadata": {},
   "outputs": [
    {
     "data": {
      "text/plain": [
       "['水星', '金星', '地球', '火星', '木星', '土星', '天王星', '海王星', '冥王星']"
      ]
     },
     "execution_count": 17,
     "metadata": {},
     "output_type": "execute_result"
    }
   ],
   "source": [
    "template = ChatPromptTemplate.from_messages([\n",
    "  # 基本設定\n",
    "  (\"system\", \"あなたはリスト生成機械です。あなたは入力された全ての質問に対して最大{max_item}個のコンマ区切りのリストで返答します。リスト以外は返答してはいけません。\"),\n",
    "  (\"human\", \"{question}\")\n",
    "])\n",
    "\n",
    "prompt = template.format_messages(\n",
    "  max_item = 10,\n",
    "  question = \"惑星を教えてください\"\n",
    ")\n",
    "\n",
    "result = chat.predict_messages(prompt)\n",
    "\n",
    "p = CommaOutputParser()\n",
    "p.parse(result.content)"
   ]
  }
 ],
 "metadata": {
  "kernelspec": {
   "display_name": "env",
   "language": "python",
   "name": "python3"
  },
  "language_info": {
   "codemirror_mode": {
    "name": "ipython",
    "version": 3
   },
   "file_extension": ".py",
   "mimetype": "text/x-python",
   "name": "python",
   "nbconvert_exporter": "python",
   "pygments_lexer": "ipython3",
   "version": "3.11.6"
  }
 },
 "nbformat": 4,
 "nbformat_minor": 2
}
