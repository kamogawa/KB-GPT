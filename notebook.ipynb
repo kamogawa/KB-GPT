{
 "cells": [
  {
   "cell_type": "code",
   "execution_count": 34,
   "metadata": {},
   "outputs": [],
   "source": [
    "from langchain.memory import ConversationBufferMemory, ConversationBufferWindowMemory\n",
    "\n",
    "# ConversationBufferMemory: Botに過去の履歴を全部渡す必要がある為、データが肥大になる。\n",
    "# memory = ConversationBufferMemory(return_messages=False)\n",
    "# memory.save_context({\"input\": \"おはよう！\"},{\"output\": \"おはようございます！\"})\n",
    "# memory.load_memory_variables({})\n",
    "\n",
    "# ConversationBufferWindowMemory: 指定した直近のチャットのみ渡す（kオプション）\n",
    "memory = ConversationBufferWindowMemory(return_messages=True,k=3)\n",
    "\n",
    "def add_message(input,output):\n",
    "  memory.save_context({\"input\": input}, {\"output\": output})\n",
    "\n"
   ]
  },
  {
   "cell_type": "code",
   "execution_count": 35,
   "metadata": {},
   "outputs": [],
   "source": [
    "add_message(1,2)\n",
    "add_message(3,4)\n",
    "add_message(5,6)\n",
    "add_message(7,8)"
   ]
  },
  {
   "cell_type": "code",
   "execution_count": 36,
   "metadata": {},
   "outputs": [
    {
     "data": {
      "text/plain": [
       "{'history': [HumanMessage(content='3'),\n",
       "  AIMessage(content='4'),\n",
       "  HumanMessage(content='5'),\n",
       "  AIMessage(content='6'),\n",
       "  HumanMessage(content='7'),\n",
       "  AIMessage(content='8')]}"
      ]
     },
     "execution_count": 36,
     "metadata": {},
     "output_type": "execute_result"
    }
   ],
   "source": [
    "memory.load_memory_variables({})"
   ]
  }
 ],
 "metadata": {
  "kernelspec": {
   "display_name": "env",
   "language": "python",
   "name": "python3"
  },
  "language_info": {
   "codemirror_mode": {
    "name": "ipython",
    "version": 3
   },
   "file_extension": ".py",
   "mimetype": "text/x-python",
   "name": "python",
   "nbconvert_exporter": "python",
   "pygments_lexer": "ipython3",
   "version": "3.11.6"
  }
 },
 "nbformat": 4,
 "nbformat_minor": 2
}
